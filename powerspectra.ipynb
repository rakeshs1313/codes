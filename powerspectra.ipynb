{
 "cells": [
  {
   "cell_type": "code",
   "execution_count": 1,
   "metadata": {
    "ExecuteTime": {
     "end_time": "2021-03-03T17:36:53.386954Z",
     "start_time": "2021-03-03T17:36:46.636658Z"
    }
   },
   "outputs": [],
   "source": [
    "import numpy as np\n",
    "import matplotlib.pyplot as plt\n",
    "import cmath"
   ]
  },
  {
   "cell_type": "code",
   "execution_count": 5,
   "metadata": {
    "ExecuteTime": {
     "end_time": "2021-03-03T17:37:27.396294Z",
     "start_time": "2021-03-03T17:37:27.393274Z"
    }
   },
   "outputs": [
    {
     "data": {
      "text/plain": [
       "12000000.0"
      ]
     },
     "execution_count": 5,
     "metadata": {},
     "output_type": "execute_result"
    }
   ],
   "source": [
    "bd=11.3\n",
    "bu=2.83\n",
    "bs=10.4\n",
    "c=0.54\n",
    "b2=9.86\n",
    "b3=14.13\n",
    "b4=3.42\n",
    "ca=1.2*10**7\n",
    "cs=3.6*10**8\n",
    "\n",
    "i=cmath.sqrt(-1)\n",
    "ca"
   ]
  },
  {
   "cell_type": "code",
   "execution_count": 3,
   "metadata": {},
   "outputs": [
    {
     "data": {
      "text/plain": [
       "360000000.0"
      ]
     },
     "execution_count": 3,
     "metadata": {},
     "output_type": "execute_result"
    }
   ],
   "source": [
    "cs"
   ]
  },
  {
   "cell_type": "code",
   "execution_count": 3,
   "metadata": {
    "ExecuteTime": {
     "end_time": "2021-03-03T17:37:29.977153Z",
     "start_time": "2021-03-03T17:37:29.966202Z"
    }
   },
   "outputs": [],
   "source": [
    "omega=np.linspace(10**-9,10**-3,100000)\n",
    "omega_s=i*omega*cs + bs\n",
    "omega_a=i*omega*ca + b3\n",
    "\n",
    "pau=  1/(b3**2+ca**2*omega**2)\n",
    "pac0= 1/(b4**2+ca**2*omega**2)\n",
    "pac1= (1*(abs(omega_s))**2) / (abs(omega_a*omega_s - b2*bd))**2\n",
    "psc1= (pac1*(abs(bd))**2) / (abs(omega_s))**2"
   ]
  },
  {
   "cell_type": "code",
   "execution_count": 6,
   "metadata": {},
   "outputs": [
    {
     "data": {
      "image/png": "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\n",
      "text/plain": [
       "<Figure size 432x288 with 1 Axes>"
      ]
     },
     "metadata": {
      "needs_background": "light"
     },
     "output_type": "display_data"
    }
   ],
   "source": [
    "plt.xscale('log')\n",
    "#plt.ylim(ymax=0.12)\n",
    "plt.plot(omega,pau,color='r',label='P$_a ^U$'),
    "plt.plot(omega,pac0,label='P$_a ^{C0}$')\n",
    "plt.plot(omega,pac1,label='P$_a ^{C1}$')\n",
    "plt.plot(omega,psc1,label='P$_s ^{C1}$')\n",
    "\n",
    "plt.legend()\n",
    "plt.savefig('power.png',dpi=300)"
   ]
  },
  {
   "cell_type": "code",
   "execution_count": null,
   "metadata": {},
   "outputs": [],
   "source": []
  }
 ],
 "metadata": {
  "kernelspec": {
   "display_name": "Python 3",
   "language": "python",
   "name": "python3"
  },
  "language_info": {
   "codemirror_mode": {
    "name": "ipython",
    "version": 3
   },
   "file_extension": ".py",
   "mimetype": "text/x-python",
   "name": "python",
   "nbconvert_exporter": "python",
   "pygments_lexer": "ipython3",
   "version": "3.7.6"
  }
 },
 "nbformat": 4,
 "nbformat_minor": 4
}
